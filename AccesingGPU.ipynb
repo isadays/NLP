{
  "nbformat": 4,
  "nbformat_minor": 0,
  "metadata": {
    "colab": {
      "provenance": [],
      "gpuType": "T4",
      "authorship_tag": "ABX9TyO+1RNTEnGqQYQzrGpJEW9m",
      "include_colab_link": true
    },
    "kernelspec": {
      "name": "python3",
      "display_name": "Python 3"
    },
    "language_info": {
      "name": "python"
    },
    "accelerator": "GPU"
  },
  "cells": [
    {
      "cell_type": "markdown",
      "metadata": {
        "id": "view-in-github",
        "colab_type": "text"
      },
      "source": [
        "<a href=\"https://colab.research.google.com/github/isadays/NLP/blob/main/AccesingGPU.ipynb\" target=\"_parent\"><img src=\"https://colab.research.google.com/assets/colab-badge.svg\" alt=\"Open In Colab\"/></a>"
      ]
    },
    {
      "cell_type": "code",
      "execution_count": 1,
      "metadata": {
        "colab": {
          "base_uri": "https://localhost:8080/"
        },
        "id": "2sZpYyQfTvbB",
        "outputId": "5046f80f-2730-4626-cf9c-12a70d3bafaa"
      },
      "outputs": [
        {
          "output_type": "stream",
          "name": "stdout",
          "text": [
            "TensorFlow Version: 2.17.1\n",
            "GPUs Available:\n",
            "  - /physical_device:GPU:0\n"
          ]
        }
      ],
      "source": [
        "import tensorflow as tf\n",
        "from tensorflow.keras import layers, models\n",
        "import numpy as np\n",
        "import time\n",
        "import os\n",
        "\n",
        "# Suppress TensorFlow logging for clarity\n",
        "os.environ['TF_CPP_MIN_LOG_LEVEL'] = '2'\n",
        "\n",
        "# Check TensorFlow version and GPU availability\n",
        "print(\"TensorFlow Version:\", tf.__version__)\n",
        "gpus = tf.config.list_physical_devices('GPU')\n",
        "if gpus:\n",
        "    print(\"GPUs Available:\")\n",
        "    for gpu in gpus:\n",
        "        print(f\"  - {gpu.name}\")\n",
        "else:\n",
        "    print(\"No GPUs available.\")\n",
        "\n"
      ]
    },
    {
      "cell_type": "code",
      "source": [
        "import torch\n",
        "print(\"PyTorch Version:\", torch.__version__)\n",
        "print(\"Is CUDA Available:\", torch.cuda.is_available())\n",
        "if torch.cuda.is_available():\n",
        "    print(\"CUDA Device Name:\", torch.cuda.get_device_name(0))\n"
      ],
      "metadata": {
        "colab": {
          "base_uri": "https://localhost:8080/"
        },
        "id": "ay8zym9RU-Xk",
        "outputId": "9bfe9b36-6f7a-474f-d2fc-aab532813dac"
      },
      "execution_count": 2,
      "outputs": [
        {
          "output_type": "stream",
          "name": "stdout",
          "text": [
            "PyTorch Version: 2.5.1+cu121\n",
            "Is CUDA Available: True\n",
            "CUDA Device Name: Tesla T4\n"
          ]
        }
      ]
    },
    {
      "cell_type": "code",
      "source": [
        "# Load and preprocess the MNIST dataset\n",
        "mnist = tf.keras.datasets.mnist\n",
        "(x_train, y_train), (x_test, y_test) = mnist.load_data()\n",
        "x_train, x_test = x_train / 255.0, x_test / 255.0\n",
        "\n",
        "def train_model(device, x_train, y_train, x_test, y_test, epochs=5, batch_size=64):\n",
        "    with tf.device(device):\n",
        "        # Build the model\n",
        "        model = models.Sequential([\n",
        "            layers.Flatten(input_shape=(28, 28)),\n",
        "            layers.Dense(512, activation='relu'),\n",
        "            layers.Dropout(0.2),\n",
        "            layers.Dense(10, activation='softmax')\n",
        "        ])\n",
        "\n",
        "        # Compile the model\n",
        "        model.compile(optimizer='adam',\n",
        "                      loss='sparse_categorical_crossentropy',\n",
        "                      metrics=['accuracy'])\n",
        "\n",
        "        # Train the model\n",
        "        start_time = time.time()\n",
        "        history = model.fit(x_train, y_train, epochs=epochs, batch_size=batch_size, validation_split=0.1, verbose=0)\n",
        "        end_time = time.time()\n",
        "\n",
        "        training_time = end_time - start_time\n",
        "\n",
        "        # Evaluate the model\n",
        "        test_loss, test_acc = model.evaluate(x_test, y_test, verbose=0)\n",
        "\n",
        "        return training_time, test_acc\n",
        "\n",
        "\n"
      ],
      "metadata": {
        "id": "VXalkemlT5PY"
      },
      "execution_count": null,
      "outputs": []
    },
    {
      "cell_type": "code",
      "source": [
        "# Train on CPU\n",
        "print(\"\\nTraining on CPU...\")\n",
        "cpu_time, cpu_acc = train_model('/CPU:0', x_train, y_train, x_test, y_test)\n",
        "print(f\"CPU Training Time: {cpu_time:.2f} seconds\")\n",
        "print(f\"CPU Test Accuracy: {cpu_acc:.4f}\")\n",
        "\n",
        "# Train on GPU\n",
        "print(\"\\nTraining on GPU...\")\n",
        "gpu_time, gpu_acc = train_model('/GPU:0', x_train, y_train, x_test, y_test)\n",
        "print(f\"GPU Training Time: {gpu_time:.2f} seconds\")\n",
        "print(f\"GPU Test Accuracy: {gpu_acc:.4f}\")\n",
        "\n",
        "# Compare Results\n",
        "print(\"\\n=== Training Time Comparison ===\")\n",
        "print(f\"CPU Training Time: {cpu_time:.2f} seconds\")\n",
        "print(f\"GPU Training Time: {gpu_time:.2f} seconds\")\n",
        "\n",
        "print(\"\\n=== Test Accuracy Comparison ===\")\n",
        "print(f\"CPU Test Accuracy: {cpu_acc:.4f}\")\n",
        "print(f\"GPU Test Accuracy: {gpu_acc:.4f}\")"
      ],
      "metadata": {
        "id": "6bwlpNKsTyma"
      },
      "execution_count": null,
      "outputs": []
    },
    {
      "cell_type": "code",
      "source": [
        "# =========================================\n",
        "# TensorFlow and PyTorch GPU vs. CPU Comparison\n",
        "# =========================================\n",
        "\n",
        "# Import Necessary Libraries\n",
        "import tensorflow as tf\n",
        "import torch\n",
        "import torch.nn as nn\n",
        "import torch.optim as optim\n",
        "from torch.utils.data import DataLoader, TensorDataset\n",
        "from tensorflow.keras import layers, models\n",
        "import numpy as np\n",
        "import time\n",
        "import os\n",
        "\n",
        "# =========================================\n",
        "# Section 1: Setup and Environment Verification\n",
        "# =========================================\n",
        "\n",
        "# Suppress TensorFlow and PyTorch Logging for Clarity\n",
        "os.environ['TF_CPP_MIN_LOG_LEVEL'] = '2'  # TensorFlow: 0 = all logs, 1 = filter out INFO, 2 = filter out WARNING, 3 = filter out ERROR\n",
        "os.environ['TORCH_CPP_LOG_LEVEL'] = '2'   # PyTorch: 0 = all logs, 1 = WARNING, 2 = ERROR\n",
        "\n",
        "print(\"========== Environment Verification ==========\\n\")\n",
        "\n",
        "# TensorFlow Version and GPU Availability\n",
        "print(\"TensorFlow Version:\", tf.__version__)\n",
        "tf_gpus = tf.config.list_physical_devices('GPU')\n",
        "if tf_gpus:\n",
        "    print(\"TensorFlow GPUs Available:\")\n",
        "    for gpu in tf_gpus:\n",
        "        print(f\"  - {gpu.name}\")\n",
        "else:\n",
        "    print(\"No TensorFlow GPUs available.\")\n",
        "\n",
        "# PyTorch Version and CUDA Availability\n",
        "print(\"\\nPyTorch Version:\", torch.__version__)\n",
        "print(\"Is CUDA Available:\", torch.cuda.is_available())\n",
        "if torch.cuda.is_available():\n",
        "    print(\"CUDA Device Name:\", torch.cuda.get_device_name(0))\n",
        "else:\n",
        "    print(\"No CUDA-enabled GPU available for PyTorch.\")\n",
        "\n",
        "print(\"\\n==============================================\\n\")\n",
        "\n"
      ],
      "metadata": {
        "colab": {
          "base_uri": "https://localhost:8080/"
        },
        "id": "j-SWdPgwVgGN",
        "outputId": "2b39cd4a-1caf-4ca7-e104-9f21ad1214c9"
      },
      "execution_count": 3,
      "outputs": [
        {
          "output_type": "stream",
          "name": "stdout",
          "text": [
            "========== Environment Verification ==========\n",
            "\n",
            "TensorFlow Version: 2.17.1\n",
            "TensorFlow GPUs Available:\n",
            "  - /physical_device:GPU:0\n",
            "\n",
            "PyTorch Version: 2.5.1+cu121\n",
            "Is CUDA Available: True\n",
            "CUDA Device Name: Tesla T4\n",
            "\n",
            "==============================================\n",
            "\n"
          ]
        }
      ]
    },
    {
      "cell_type": "code",
      "source": [
        "# =========================================\n",
        "# Section 2: Data Loading and Preprocessing\n",
        "# =========================================\n",
        "\n",
        "print(\"========== Data Loading and Preprocessing ==========\\n\")\n",
        "\n",
        "# Load and Preprocess the MNIST Dataset for TensorFlow\n",
        "mnist = tf.keras.datasets.mnist\n",
        "(x_train_tf, y_train_tf), (x_test_tf, y_test_tf) = mnist.load_data()\n",
        "x_train_tf, x_test_tf = x_train_tf / 255.0, x_test_tf / 255.0\n",
        "\n",
        "print(\"TensorFlow MNIST data loaded and normalized.\")\n",
        "\n",
        "# Load and Preprocess the MNIST Dataset for PyTorch\n",
        "# Convert data to PyTorch tensors and add channel dimension\n",
        "x_train_pt = torch.tensor(x_train_tf, dtype=torch.float32).unsqueeze(1)  # Shape: (60000, 1, 28, 28)\n",
        "x_test_pt = torch.tensor(x_test_tf, dtype=torch.float32).unsqueeze(1)    # Shape: (10000, 1, 28, 28)\n",
        "y_train_pt = torch.tensor(y_train_tf, dtype=torch.long)\n",
        "y_test_pt = torch.tensor(y_test_tf, dtype=torch.long)\n",
        "\n",
        "# Create TensorDatasets and DataLoaders for PyTorch\n",
        "train_dataset_pt = TensorDataset(x_train_pt, y_train_pt)\n",
        "test_dataset_pt = TensorDataset(x_test_pt, y_test_pt)\n",
        "\n",
        "train_loader_pt = DataLoader(train_dataset_pt, batch_size=64, shuffle=True)\n",
        "test_loader_pt = DataLoader(test_dataset_pt, batch_size=64, shuffle=False)\n",
        "\n",
        "print(\"PyTorch MNIST data loaded, converted to tensors, and DataLoaders created.\\n\")\n"
      ],
      "metadata": {
        "colab": {
          "base_uri": "https://localhost:8080/"
        },
        "id": "yRsH7fjMVwqH",
        "outputId": "0e90dde1-3fec-4ffc-c283-899e8e54d184"
      },
      "execution_count": 4,
      "outputs": [
        {
          "output_type": "stream",
          "name": "stdout",
          "text": [
            "========== Data Loading and Preprocessing ==========\n",
            "\n",
            "Downloading data from https://storage.googleapis.com/tensorflow/tf-keras-datasets/mnist.npz\n",
            "\u001b[1m11490434/11490434\u001b[0m \u001b[32m━━━━━━━━━━━━━━━━━━━━\u001b[0m\u001b[37m\u001b[0m \u001b[1m0s\u001b[0m 0us/step\n",
            "TensorFlow MNIST data loaded and normalized.\n",
            "PyTorch MNIST data loaded, converted to tensors, and DataLoaders created.\n",
            "\n"
          ]
        }
      ]
    },
    {
      "cell_type": "code",
      "source": [
        "# =========================================\n",
        "# Section 3: Define Training and Evaluation Functions\n",
        "# =========================================\n",
        "\n",
        "print(\"========== Defining Training and Evaluation Functions ==========\\n\")\n",
        "\n",
        "# ---------------------\n",
        "# TensorFlow Training Function\n",
        "# ---------------------\n",
        "def train_tensorflow_model(device, x_train, y_train, x_test, y_test, epochs=5, batch_size=64):\n",
        "    with tf.device(device):\n",
        "        # Build the TensorFlow model\n",
        "        model = models.Sequential([\n",
        "            layers.Flatten(input_shape=(28, 28)),\n",
        "            layers.Dense(512, activation='relu'),\n",
        "            layers.Dropout(0.2),\n",
        "            layers.Dense(10, activation='softmax')\n",
        "        ])\n",
        "\n",
        "        # Compile the model\n",
        "        model.compile(optimizer='adam',\n",
        "                      loss='sparse_categorical_crossentropy',\n",
        "                      metrics=['accuracy'])\n",
        "\n",
        "        # Train the model\n",
        "        start_time = time.time()\n",
        "        history = model.fit(x_train, y_train,\n",
        "                            epochs=epochs,\n",
        "                            batch_size=batch_size,\n",
        "                            validation_split=0.1,\n",
        "                            verbose=0)  # Set verbose=1 to see training progress\n",
        "        end_time = time.time()\n",
        "\n",
        "        training_time = end_time - start_time\n",
        "\n",
        "        # Evaluate the model\n",
        "        test_loss, test_acc = model.evaluate(x_test, y_test, verbose=0)\n",
        "\n",
        "        return training_time, test_acc\n",
        "\n",
        "# ---------------------\n",
        "# PyTorch Training Function\n",
        "# ---------------------\n",
        "class SimpleNN(nn.Module):\n",
        "    def __init__(self):\n",
        "        super(SimpleNN, self).__init__()\n",
        "        self.flatten = nn.Flatten()\n",
        "        self.fc1 = nn.Linear(28 * 28, 512)\n",
        "        self.relu = nn.ReLU()\n",
        "        self.dropout = nn.Dropout(0.2)\n",
        "        self.fc2 = nn.Linear(512, 10)\n",
        "        self.softmax = nn.Softmax(dim=1)\n",
        "\n",
        "    def forward(self, x):\n",
        "        x = self.flatten(x)\n",
        "        x = self.fc1(x)\n",
        "        x = self.relu(x)\n",
        "        x = self.dropout(x)\n",
        "        x = self.fc2(x)\n",
        "        x = self.softmax(x)\n",
        "        return x\n",
        "\n",
        "def train_pytorch_model(device, train_loader, model, criterion, optimizer, epochs=5):\n",
        "    model.to(device)\n",
        "    model.train()\n",
        "    start_time = time.time()\n",
        "    for epoch in range(epochs):\n",
        "        for data, target in train_loader:\n",
        "            data, target = data.to(device), target.to(device)\n",
        "\n",
        "            # Zero the parameter gradients\n",
        "            optimizer.zero_grad()\n",
        "\n",
        "            # Forward pass\n",
        "            outputs = model(data)\n",
        "            loss = criterion(outputs, target)\n",
        "\n",
        "            # Backward pass and optimization\n",
        "            loss.backward()\n",
        "            optimizer.step()\n",
        "    end_time = time.time()\n",
        "    training_time = end_time - start_time\n",
        "    return training_time\n",
        "\n",
        "def evaluate_pytorch_model(device, test_loader, model):\n",
        "    model.to(device)\n",
        "    model.eval()\n",
        "    correct = 0\n",
        "    total = 0\n",
        "    with torch.no_grad():\n",
        "        for data, target in test_loader:\n",
        "            data, target = data.to(device), target.to(device)\n",
        "            outputs = model(data)\n",
        "            _, predicted = torch.max(outputs.data, 1)\n",
        "            total += target.size(0)\n",
        "            correct += (predicted == target).sum().item()\n",
        "    accuracy = correct / total\n",
        "    return accuracy\n",
        "\n",
        "print(\"Training and evaluation functions defined.\\n\")\n",
        "\n"
      ],
      "metadata": {
        "colab": {
          "base_uri": "https://localhost:8080/"
        },
        "id": "rkaxCkohV5AD",
        "outputId": "13255bc4-fef1-4030-e9da-a5cf8b3bf821"
      },
      "execution_count": 5,
      "outputs": [
        {
          "output_type": "stream",
          "name": "stdout",
          "text": [
            "========== Defining Training and Evaluation Functions ==========\n",
            "\n",
            "Training and evaluation functions defined.\n",
            "\n"
          ]
        }
      ]
    },
    {
      "cell_type": "code",
      "source": [
        "# =========================================\n",
        "# Section 4: TensorFlow Training on CPU and GPU\n",
        "# =========================================\n",
        "\n",
        "print(\"========== TensorFlow Training ==========\\n\")\n",
        "\n",
        "# Train on CPU\n",
        "print(\"--- TensorFlow Training on CPU ---\")\n",
        "cpu_time_tf, cpu_acc_tf = train_tensorflow_model('/CPU:0', x_train_tf, y_train_tf, x_test_tf, y_test_tf)\n",
        "print(f\"CPU Training Time: {cpu_time_tf:.2f} seconds\")\n",
        "print(f\"CPU Test Accuracy: {cpu_acc_tf:.4f}\\n\")\n",
        "\n",
        "# Train on GPU\n",
        "if tf_gpus:\n",
        "    print(\"--- TensorFlow Training on GPU ---\")\n",
        "    gpu_time_tf, gpu_acc_tf = train_tensorflow_model('/GPU:0', x_train_tf, y_train_tf, x_test_tf, y_test_tf)\n",
        "    print(f\"GPU Training Time: {gpu_time_tf:.2f} seconds\")\n",
        "    print(f\"GPU Test Accuracy: {gpu_acc_tf:.4f}\\n\")\n",
        "else:\n",
        "    print(\"GPU training not available for TensorFlow.\\n\")\n",
        "\n",
        "# =========================================\n",
        "# Section 5: PyTorch Training on CPU and GPU\n",
        "# =========================================\n",
        "\n",
        "print(\"========== PyTorch Training ==========\\n\")\n",
        "\n",
        "# Initialize PyTorch Model, Loss Function, and Optimizer for CPU\n",
        "model_cpu_pt = SimpleNN()\n",
        "criterion_cpu_pt = nn.CrossEntropyLoss()\n",
        "optimizer_cpu_pt = optim.Adam(model_cpu_pt.parameters(), lr=0.001)\n",
        "\n",
        "# Train on CPU\n",
        "print(\"--- PyTorch Training on CPU ---\")\n",
        "cpu_time_pt, cpu_acc_pt = 0, 0  # Initialize\n",
        "cpu_time_pt = train_pytorch_model('cpu', train_loader_pt, model_cpu_pt, criterion_cpu_pt, optimizer_cpu_pt, epochs=5)\n",
        "cpu_acc_pt = evaluate_pytorch_model('cpu', test_loader_pt, model_cpu_pt)\n",
        "print(f\"CPU Training Time: {cpu_time_pt:.2f} seconds\")\n",
        "print(f\"CPU Test Accuracy: {cpu_acc_pt:.4f}\\n\")\n",
        "\n",
        "# Train on GPU\n",
        "if torch.cuda.is_available():\n",
        "    # Initialize PyTorch Model, Loss Function, and Optimizer for GPU\n",
        "    model_gpu_pt = SimpleNN()\n",
        "    criterion_gpu_pt = nn.CrossEntropyLoss()\n",
        "    optimizer_gpu_pt = optim.Adam(model_gpu_pt.parameters(), lr=0.001)\n",
        "\n",
        "    print(\"--- PyTorch Training on GPU ---\")\n",
        "    gpu_time_pt, gpu_acc_pt = 0, 0  # Initialize\n",
        "    gpu_time_pt = train_pytorch_model('cuda', train_loader_pt, model_gpu_pt, criterion_gpu_pt, optimizer_gpu_pt, epochs=5)\n",
        "    gpu_acc_pt = evaluate_pytorch_model('cuda', test_loader_pt, model_gpu_pt)\n",
        "    print(f\"GPU Training Time: {gpu_time_pt:.2f} seconds\")\n",
        "    print(f\"GPU Test Accuracy: {gpu_acc_pt:.4f}\\n\")\n",
        "else:\n",
        "    print(\"GPU training not available for PyTorch.\\n\")\n"
      ],
      "metadata": {
        "colab": {
          "base_uri": "https://localhost:8080/"
        },
        "id": "5P4N1RboWDIk",
        "outputId": "0b2b7980-1662-4c3f-d2f9-7dae6f94182e"
      },
      "execution_count": 6,
      "outputs": [
        {
          "output_type": "stream",
          "name": "stdout",
          "text": [
            "========== TensorFlow Training ==========\n",
            "\n",
            "--- TensorFlow Training on CPU ---\n"
          ]
        },
        {
          "output_type": "stream",
          "name": "stderr",
          "text": [
            "/usr/local/lib/python3.11/dist-packages/keras/src/layers/reshaping/flatten.py:37: UserWarning: Do not pass an `input_shape`/`input_dim` argument to a layer. When using Sequential models, prefer using an `Input(shape)` object as the first layer in the model instead.\n",
            "  super().__init__(**kwargs)\n"
          ]
        },
        {
          "output_type": "stream",
          "name": "stdout",
          "text": [
            "CPU Training Time: 24.08 seconds\n",
            "CPU Test Accuracy: 0.9806\n",
            "\n",
            "--- TensorFlow Training on GPU ---\n",
            "GPU Training Time: 12.22 seconds\n",
            "GPU Test Accuracy: 0.9781\n",
            "\n",
            "========== PyTorch Training ==========\n",
            "\n",
            "--- PyTorch Training on CPU ---\n",
            "CPU Training Time: 26.49 seconds\n",
            "CPU Test Accuracy: 0.9701\n",
            "\n",
            "--- PyTorch Training on GPU ---\n",
            "GPU Training Time: 9.99 seconds\n",
            "GPU Test Accuracy: 0.9743\n",
            "\n"
          ]
        }
      ]
    },
    {
      "cell_type": "code",
      "source": [
        "\n",
        "# =========================================\n",
        "# Section 6: Results Comparison\n",
        "# =========================================\n",
        "\n",
        "print(\"========== Results Comparison ==========\\n\")\n",
        "\n",
        "# TensorFlow Results\n",
        "print(\"=== TensorFlow Training Time Comparison ===\")\n",
        "print(f\"CPU Training Time: {cpu_time_tf:.2f} seconds\")\n",
        "if tf_gpus:\n",
        "    print(f\"GPU Training Time: {gpu_time_tf:.2f} seconds\")\n",
        "print()\n",
        "\n",
        "print(\"=== TensorFlow Test Accuracy Comparison ===\")\n",
        "print(f\"CPU Test Accuracy: {cpu_acc_tf:.4f}\")\n",
        "if tf_gpus:\n",
        "    print(f\"GPU Test Accuracy: {gpu_acc_tf:.4f}\")\n",
        "print(\"\\n----------------------------------------------\\n\")\n",
        "\n",
        "# PyTorch Results\n",
        "print(\"=== PyTorch Training Time Comparison ===\")\n",
        "print(f\"CPU Training Time: {cpu_time_pt:.2f} seconds\")\n",
        "if torch.cuda.is_available():\n",
        "    print(f\"GPU Training Time: {gpu_time_pt:.2f} seconds\")\n",
        "print()\n",
        "\n",
        "print(\"=== PyTorch Test Accuracy Comparison ===\")\n",
        "print(f\"CPU Test Accuracy: {cpu_acc_pt:.4f}\")\n",
        "if torch.cuda.is_available():\n",
        "    print(f\"GPU Test Accuracy: {gpu_acc_pt:.4f}\")\n",
        "print(\"\\n==============================================\\n\")\n",
        "\n"
      ],
      "metadata": {
        "colab": {
          "base_uri": "https://localhost:8080/"
        },
        "id": "hg7QnmsgWMqW",
        "outputId": "79faad2b-8ca5-4b77-8d61-6c3220d1f50a"
      },
      "execution_count": 7,
      "outputs": [
        {
          "output_type": "stream",
          "name": "stdout",
          "text": [
            "========== Results Comparison ==========\n",
            "\n",
            "=== TensorFlow Training Time Comparison ===\n",
            "CPU Training Time: 24.08 seconds\n",
            "GPU Training Time: 12.22 seconds\n",
            "\n",
            "=== TensorFlow Test Accuracy Comparison ===\n",
            "CPU Test Accuracy: 0.9806\n",
            "GPU Test Accuracy: 0.9781\n",
            "\n",
            "----------------------------------------------\n",
            "\n",
            "=== PyTorch Training Time Comparison ===\n",
            "CPU Training Time: 26.49 seconds\n",
            "GPU Training Time: 9.99 seconds\n",
            "\n",
            "=== PyTorch Test Accuracy Comparison ===\n",
            "CPU Test Accuracy: 0.9701\n",
            "GPU Test Accuracy: 0.9743\n",
            "\n",
            "==============================================\n",
            "\n"
          ]
        }
      ]
    },
    {
      "cell_type": "code",
      "source": [],
      "metadata": {
        "id": "kgECktF5WSNH"
      },
      "execution_count": null,
      "outputs": []
    }
  ]
}