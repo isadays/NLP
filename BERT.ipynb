from transformers import AutoTokenizer, AutoModelForSequenceClassification

# Load BERTimbau tokenizer and model
model_name = "neuralmind/bert-base-portuguese-cased"
tokenizer = AutoTokenizer.from_pretrained(model_name)
model = AutoModelForSequenceClassification.from_pretrained(model_name, num_labels=2)  # Binary classification
texts = ["Eu amo este filme.", "O filme foi terrível."]
labels = [1, 0]  # 1: positive, 0: negative
encoded_inputs = tokenizer(
    texts,
    max_length=64,
    padding="max_length",
    truncation=True,
    return_tensors="pt"
)

print(encoded_inputs)
from torch.utils.data import Dataset

class PortugueseDataset(Dataset):
    def __init__(self, texts, labels, tokenizer, max_length):
        self.texts = texts
        self.labels = labels
        self.tokenizer = tokenizer
        self.max_length = max_length

    def __len__(self):
        return len(self.texts)

    def __getitem__(self, idx):
        text = self.texts[idx]
        label = self.labels[idx]

        encoding = self.tokenizer(
            text,
            max_length=self.max_length,
            padding="max_length",
            truncation=True,
            return_tensors="pt"
        )

        return {
            "input_ids": encoding["input_ids"].squeeze(),
            "attention_mask": encoding["attention_mask"].squeeze(),
            "label": torch.tensor(label, dtype=torch.long)
        }
from torch.utils.data import DataLoader

dataset = PortugueseDataset(texts, labels, tokenizer, max_length=64)
dataloader = DataLoader(dataset, batch_size=2)
from transformers import AdamW

optimizer = AdamW(model.parameters(), lr=2e-5)

model.train()
for epoch in range(3):  # Train for 3 epochs
    for batch in dataloader:
        input_ids = batch["input_ids"]
        attention_mask = batch["attention_mask"]
        labels = batch["label"]

        # Forward pass
        outputs = model(input_ids, attention_mask=attention_mask, labels=labels)
        loss = outputs.loss
        logits = outputs.logits

        # Backward pass
        loss.backward()
        optimizer.step()
        optimizer.zero_grad()

        print(f"Epoch {epoch}, Loss: {loss.item()}")
model.save_pretrained("./bertimbau_fine_tuned")
tokenizer.save_pretrained("./bertimbau_fine_tuned")
model.eval()

test_texts = ["Este filme é ótimo!", "Eu não gostei do filme."]
test_labels = [1, 0]

test_dataset = PortugueseDataset(test_texts, test_labels, tokenizer, max_length=64)
test_dataloader = DataLoader(test_dataset, batch_size=2)

for batch in test_dataloader:
    input_ids = batch["input_ids"]
    attention_mask = batch["attention_mask"]

    with torch.no_grad():
        outputs = model(input_ids, attention_mask=attention_mask)

    logits = outputs.logits
    predictions = torch.argmax(logits, dim=1)
    print("Predictions:", predictions)

